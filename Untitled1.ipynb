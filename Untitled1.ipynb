{
 "cells": [
  {
   "cell_type": "code",
   "execution_count": 2,
   "metadata": {},
   "outputs": [],
   "source": [
    "import numpy as np\n",
    "import tensorflow as tf\n",
    "import os\n",
    "from skimage import io, transform\n",
    "from skimage.color import rgb2gray\n",
    "import matplotlib.pyplot as plt\n"
   ]
  },
  {
   "cell_type": "code",
   "execution_count": 93,
   "metadata": {},
   "outputs": [],
   "source": [
    "class Data():\n",
    "\n",
    "    def __init__(self):\n",
    "        self.i = 0\n",
    "        self.nb_labels = 0\n",
    "        self.images = [None]\n",
    "        self.labels = [None]\n",
    "    # methode pour loader les fichiers.\n",
    "    def load_data(self,data_directory):\n",
    "        #Fait une liste des dossiers.\n",
    "        directories = [d for d in os.listdir(data_directory)\n",
    "                       if os.path.isdir(os.path.join(data_directory, d))]\n",
    "        images = []\n",
    "        labels = []\n",
    "        for d in directories: # loop sur les dossiers (labels)\n",
    "            label_directory = os.path.join(data_directory,d) #donne le path des labels\n",
    "            # fait une lite des fichiers dans un dossier (labels)\n",
    "            file_names = [os.path.join(label_directory, file) for file\n",
    "                          in os.listdir(label_directory) if file.endswith(\".ppm\")]\n",
    "            # la on a toutes les images d'un dossier, loop sur eux\n",
    "            for file in file_names:\n",
    "                images.append(io.imread(file))\n",
    "                labels.append(int(d))\n",
    "        self.images=images\n",
    "        self.labels=labels\n",
    "        self.nb_labels = len(set(Train_data.labels))\n",
    "        print(\"images and labels loaded\")\n",
    "        \n",
    "    # methode pour redimentionner les images    \n",
    "    def resize(self,dim=(28,28)):\n",
    "        self.images = [transform.resize(image,(dim[0],dim[1])) for image in self.images]\n",
    "        \n",
    "    # methode pour enlever le channel de couleur    \n",
    "    def togray(self):\n",
    "        self.images = rgb2gray(np.array(self.images))\n",
    "        \n",
    "    def one_hot_encode(self):\n",
    "        n=len(self.labels)\n",
    "        out = np.zeros((n,self.nb_labels))\n",
    "        out[range(n), self.labels]=1\n",
    "        self.labels = out\n",
    "\n",
    "    \n",
    "    def next_batch(self, batch_size=100):\n",
    "        # Note that the 100 dimension in the reshape call is set by an assumed batch size of 100\n",
    "        x = self.images[self.i:self.i+batch_size]\n",
    "        y = self.labels[self.i:self.i+batch_size]\n",
    "        self.i = (self.i + batch_size) % len(self.images)\n",
    "        return x, y"
   ]
  },
  {
   "cell_type": "code",
   "execution_count": 94,
   "metadata": {},
   "outputs": [
    {
     "name": "stdout",
     "output_type": "stream",
     "text": [
      "images and labels loaded\n",
      "images and labels loaded\n"
     ]
    }
   ],
   "source": [
    "Train_data = Data()\n",
    "Test_data = Data()\n",
    "Train_data.load_data(\"/Users/simonboivin/Documents/BelgiumTSC/Training\")\n",
    "Test_data.load_data(\"/Users/simonboivin/Documents/BelgiumTSC/Testing\")\n"
   ]
  },
  {
   "cell_type": "code",
   "execution_count": 74,
   "metadata": {},
   "outputs": [
    {
     "name": "stderr",
     "output_type": "stream",
     "text": [
      "/anaconda3/lib/python3.6/site-packages/skimage/transform/_warps.py:84: UserWarning: The default mode, 'constant', will be changed to 'reflect' in skimage 0.15.\n",
      "  warn(\"The default mode, 'constant', will be changed to 'reflect' in \"\n"
     ]
    }
   ],
   "source": [
    "Train_data.resize()\n",
    "Train_data.togray()"
   ]
  },
  {
   "cell_type": "code",
   "execution_count": 75,
   "metadata": {},
   "outputs": [
    {
     "data": {
      "text/plain": [
       "<matplotlib.image.AxesImage at 0x1c514becf8>"
      ]
     },
     "execution_count": 75,
     "metadata": {},
     "output_type": "execute_result"
    },
    {
     "data": {
      "image/png": "[encoded data removed]",
      "text/plain": [
       "<matplotlib.figure.Figure at 0x1c50024470>"
      ]
     },
     "metadata": {},
     "output_type": "display_data"
    }
   ],
   "source": [
    "plt.imshow(Train_data.images[90])"
   ]
  },
  {
   "cell_type": "code",
   "execution_count": 76,
   "metadata": {},
   "outputs": [],
   "source": [
    "Train_data.one_hot_encode()"
   ]
  },
  {
   "cell_type": "code",
   "execution_count": 77,
   "metadata": {},
   "outputs": [
    {
     "data": {
      "text/plain": [
       "array([0., 0., 0., 0., 0., 0., 0., 0., 0., 0., 0., 0., 0., 0., 0., 0., 0.,\n",
       "       0., 0., 0., 0., 0., 0., 0., 0., 0., 0., 0., 0., 0., 0., 1., 0., 0.,\n",
       "       0., 0., 0., 0., 0., 0., 0., 0., 0., 0., 0., 0., 0., 0., 0., 0., 0.,\n",
       "       0., 0., 0., 0., 0., 0., 0., 0., 0., 0., 0.])"
      ]
     },
     "execution_count": 77,
     "metadata": {},
     "output_type": "execute_result"
    }
   ],
   "source": [
    "Train_data.labels[1]"
   ]
  },
  {
   "cell_type": "code",
   "execution_count": 85,
   "metadata": {},
   "outputs": [],
   "source": [
    "batch_x, batch_y = Train_data.next_batch()"
   ]
  },
  {
   "cell_type": "code",
   "execution_count": 86,
   "metadata": {},
   "outputs": [
    {
     "data": {
      "text/plain": [
       "(100, 28, 28)"
      ]
     },
     "execution_count": 86,
     "metadata": {},
     "output_type": "execute_result"
    }
   ],
   "source": [
    "batch_x.shape"
   ]
  },
  {
   "cell_type": "code",
   "execution_count": 92,
   "metadata": {},
   "outputs": [
    {
     "data": {
      "text/plain": [
       "62"
      ]
     },
     "execution_count": 92,
     "metadata": {},
     "output_type": "execute_result"
    }
   ],
   "source": [
    "len(set(Train_data.labels))"
   ]
  },
  {
   "cell_type": "code",
   "execution_count": null,
   "metadata": {},
   "outputs": [],
   "source": []
  },
  {
   "cell_type": "code",
   "execution_count": null,
   "metadata": {},
   "outputs": [],
   "source": []
  }
 ],
 "metadata": {
  "kernelspec": {
   "display_name": "Python 3",
   "language": "python",
   "name": "python3"
  },
  "language_info": {
   "codemirror_mode": {
    "name": "ipython",
    "version": 3
   },
   "file_extension": ".py",
   "mimetype": "text/x-python",
   "name": "python",
   "nbconvert_exporter": "python",
   "pygments_lexer": "ipython3",
   "version": "3.6.4"
  }
 },
 "nbformat": 4,
 "nbformat_minor": 2
}
